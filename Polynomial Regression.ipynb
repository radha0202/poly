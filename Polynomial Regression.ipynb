{
 "cells": [
  {
   "cell_type": "code",
   "execution_count": 4,
   "id": "bc5a9214",
   "metadata": {},
   "outputs": [],
   "source": [
    "import pandas as pd\n",
    "import numpy as np\n",
    "import matplotlib.pyplot as plt\n",
    "from sklearn.model_selection import train_test_split\n",
    "from sklearn.preprocessing import PolynomialFeatures\n",
    "from sklearn.linear_model import LinearRegression\n",
    "from sklearn.metrics import mean_squared_error, r2_score"
   ]
  },
  {
   "cell_type": "code",
   "execution_count": 5,
   "id": "c67a3893",
   "metadata": {},
   "outputs": [],
   "source": [
    "# 1. Load the Data\n",
    "data = pd.read_csv('/home/fymsc15/Aditya_WF/AIML/Assignment03/Position_Salaries.csv')\n",
    "X = data.iloc[:, 1:2].values\n",
    "y = data.iloc[:, 2].values"
   ]
  },
  {
   "cell_type": "code",
   "execution_count": 6,
   "id": "f5b04b91",
   "metadata": {},
   "outputs": [],
   "source": [
    "# 2. Split the data\n",
    "X_train, X_test, y_train, y_test = train_test_split(X, y, test_size=0.2, random_state=42)"
   ]
  },
  {
   "cell_type": "code",
   "execution_count": 7,
   "id": "73aef65d",
   "metadata": {},
   "outputs": [],
   "source": [
    "# 3. Create and Train the Polynomial Regression Model\n",
    "degree = 4\n",
    "poly_features = PolynomialFeatures(degree=degree)\n",
    "X_poly_train = poly_features.fit_transform(X_train)\n",
    "\n",
    "model = LinearRegression()\n",
    "model.fit(X_poly_train, y_train)\n",
    "\n",
    "X_poly_test = poly_features.transform(X_test)"
   ]
  },
  {
   "cell_type": "code",
   "execution_count": 8,
   "id": "99103048",
   "metadata": {},
   "outputs": [],
   "source": [
    "# 4. Make Predictions\n",
    "y_pred_train = model.predict(X_poly_train)\n",
    "y_pred_test = model.predict(X_poly_test)"
   ]
  },
  {
   "cell_type": "code",
   "execution_count": 9,
   "id": "695c6540",
   "metadata": {},
   "outputs": [
    {
     "name": "stdout",
     "output_type": "stream",
     "text": [
      "Training Metrics:\n",
      "MSE: 36443434.92\n",
      "RMSE: 6036.84\n",
      "R-squared: 1.00\n",
      "\n",
      "Testing Metrics:\n",
      "MSE: 1444499305.55\n",
      "RMSE: 38006.57\n",
      "R-squared: 0.97\n"
     ]
    }
   ],
   "source": [
    "# 5. Evaluate the Model\n",
    "mse_train = mean_squared_error(y_train, y_pred_train)\n",
    "rmse_train = np.sqrt(mse_train)\n",
    "r2_train = r2_score(y_train, y_pred_train)\n",
    "\n",
    "mse_test = mean_squared_error(y_test, y_pred_test)\n",
    "rmse_test = np.sqrt(mse_test)\n",
    "r2_test = r2_score(y_test, y_pred_test)\n",
    "\n",
    "print(\"Training Metrics:\")\n",
    "print(f\"MSE: {mse_train:.2f}\")\n",
    "print(f\"RMSE: {rmse_train:.2f}\")\n",
    "print(f\"R-squared: {r2_train:.2f}\")\n",
    "\n",
    "print(\"\\nTesting Metrics:\")\n",
    "print(f\"MSE: {mse_test:.2f}\")\n",
    "print(f\"RMSE: {rmse_test:.2f}\")\n",
    "print(f\"R-squared: {r2_test:.2f}\")"
   ]
  },
  {
   "cell_type": "code",
   "execution_count": 10,
   "id": "3f02af23",
   "metadata": {},
   "outputs": [
    {
     "data": {
      "image/png": "[encoded data removed]",
      "text/plain": [
       "<Figure size 432x288 with 1 Axes>"
      ]
     },
     "metadata": {
      "needs_background": "light"
     },
     "output_type": "display_data"
    }
   ],
   "source": [
    "# 6. Visualize the Results\n",
    "plt.scatter(X, y, color='blue', label='Actual Data')\n",
    "\n",
    "X_grid = np.arange(min(X), max(X), 0.1)\n",
    "X_grid = X_grid.reshape(len(X_grid), 1)\n",
    "X_poly_grid = poly_features.transform(X_grid)\n",
    "plt.plot(X_grid, model.predict(X_poly_grid), color='red', label=f'Polynomial Regression (Degree {degree})')\n",
    "\n",
    "plt.title('Position vs Salary (Polynomial Regression)')\n",
    "plt.xlabel('Position Level')\n",
    "plt.ylabel('Salary')\n",
    "plt.legend()\n",
    "plt.show()"
   ]
  },
  {
   "cell_type": "code",
   "execution_count": 11,
   "id": "cda76d72",
   "metadata": {},
   "outputs": [
    {
     "name": "stdout",
     "output_type": "stream",
     "text": [
      "\n",
      "Predicted salary for position 6.5: $163313.59\n"
     ]
    }
   ],
   "source": [
    "# Example of making a prediction\n",
    "position_to_predict = np.array([[6.5]])\n",
    "position_poly = poly_features.transform(position_to_predict)\n",
    "predicted_salary = model.predict(position_poly)\n",
    "\n",
    "print(f\"\\nPredicted salary for position {position_to_predict[0][0]}: ${predicted_salary[0]:.2f}\")"
   ]
  },
  {
   "cell_type": "code",
   "execution_count": null,
   "id": "83983b21",
   "metadata": {},
   "outputs": [],
   "source": []
  }
 ],
 "metadata": {
  "kernelspec": {
   "display_name": "Python 3 (ipykernel)",
   "language": "python",
   "name": "python3"
  },
  "language_info": {
   "codemirror_mode": {
    "name": "ipython",
    "version": 3
   },
   "file_extension": ".py",
   "mimetype": "text/x-python",
   "name": "python",
   "nbconvert_exporter": "python",
   "pygments_lexer": "ipython3",
   "version": "3.9.12"
  }
 },
 "nbformat": 4,
 "nbformat_minor": 5
}
